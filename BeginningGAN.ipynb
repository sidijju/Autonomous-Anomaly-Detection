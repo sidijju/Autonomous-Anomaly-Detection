{
  "nbformat": 4,
  "nbformat_minor": 0,
  "metadata": {
    "colab": {
      "name": "BeginningGAN.ipynb",
      "version": "0.3.2",
      "provenance": [],
      "collapsed_sections": []
    },
    "kernelspec": {
      "name": "python3",
      "display_name": "Python 3"
    },
    "accelerator": "GPU"
  },
  "cells": [
    {
      "metadata": {
        "id": "r1Oa2rsjFrJh",
        "colab_type": "text"
      },
      "cell_type": "markdown",
      "source": [
        "#Beginning GAN\n",
        "\n",
        "In this notebook, I will train my first GAN in order to generate images of celebrity faces. \n",
        "\n",
        "##Import Required Libraries\n",
        "\n",
        "First, import any and all required libraries, including tensorflow, matplotlib, and numpy."
      ]
    },
    {
      "metadata": {
        "id": "Cpox_X6N8Qe5",
        "colab_type": "code",
        "colab": {
          "base_uri": "https://localhost:8080/",
          "height": 442
        },
        "outputId": "86b66302-7e9a-4fed-b932-1fe652e9d5c6"
      },
      "cell_type": "code",
      "source": [
        "!pip install tensorflow\n",
        "!pip install matplotlib\n",
        "!pip install numpy"
      ],
      "execution_count": 139,
      "outputs": [
        {
          "output_type": "stream",
          "text": [
            "Requirement already satisfied: tensorflow in /usr/local/lib/python3.6/dist-packages (1.11.0)\n",
            "Requirement already satisfied: keras-preprocessing>=1.0.3 in /usr/local/lib/python3.6/dist-packages (from tensorflow) (1.0.5)\n",
            "Requirement already satisfied: setuptools<=39.1.0 in /usr/local/lib/python3.6/dist-packages (from tensorflow) (39.1.0)\n",
            "Requirement already satisfied: six>=1.10.0 in /usr/local/lib/python3.6/dist-packages (from tensorflow) (1.11.0)\n",
            "Requirement already satisfied: tensorboard<1.12.0,>=1.11.0 in /usr/local/lib/python3.6/dist-packages (from tensorflow) (1.11.0)\n",
            "Requirement already satisfied: protobuf>=3.6.0 in /usr/local/lib/python3.6/dist-packages (from tensorflow) (3.6.1)\n",
            "Requirement already satisfied: astor>=0.6.0 in /usr/local/lib/python3.6/dist-packages (from tensorflow) (0.7.1)\n",
            "Requirement already satisfied: absl-py>=0.1.6 in /usr/local/lib/python3.6/dist-packages (from tensorflow) (0.5.0)\n",
            "Requirement already satisfied: termcolor>=1.1.0 in /usr/local/lib/python3.6/dist-packages (from tensorflow) (1.1.0)\n",
            "Requirement already satisfied: keras-applications>=1.0.5 in /usr/local/lib/python3.6/dist-packages (from tensorflow) (1.0.6)\n",
            "Requirement already satisfied: wheel>=0.26 in /usr/local/lib/python3.6/dist-packages (from tensorflow) (0.32.1)\n",
            "Requirement already satisfied: gast>=0.2.0 in /usr/local/lib/python3.6/dist-packages (from tensorflow) (0.2.0)\n",
            "Requirement already satisfied: grpcio>=1.8.6 in /usr/local/lib/python3.6/dist-packages (from tensorflow) (1.15.0)\n",
            "Requirement already satisfied: numpy>=1.13.3 in /usr/local/lib/python3.6/dist-packages (from tensorflow) (1.14.6)\n",
            "Requirement already satisfied: markdown>=2.6.8 in /usr/local/lib/python3.6/dist-packages (from tensorboard<1.12.0,>=1.11.0->tensorflow) (3.0.1)\n",
            "Requirement already satisfied: werkzeug>=0.11.10 in /usr/local/lib/python3.6/dist-packages (from tensorboard<1.12.0,>=1.11.0->tensorflow) (0.14.1)\n",
            "Requirement already satisfied: h5py in /usr/local/lib/python3.6/dist-packages (from keras-applications>=1.0.5->tensorflow) (2.8.0)\n",
            "Requirement already satisfied: matplotlib in /usr/local/lib/python3.6/dist-packages (2.1.2)\n",
            "Requirement already satisfied: cycler>=0.10 in /usr/local/lib/python3.6/dist-packages (from matplotlib) (0.10.0)\n",
            "Requirement already satisfied: pytz in /usr/local/lib/python3.6/dist-packages (from matplotlib) (2018.5)\n",
            "Requirement already satisfied: pyparsing!=2.0.4,!=2.1.2,!=2.1.6,>=2.0.1 in /usr/local/lib/python3.6/dist-packages (from matplotlib) (2.2.2)\n",
            "Requirement already satisfied: six>=1.10 in /usr/local/lib/python3.6/dist-packages (from matplotlib) (1.11.0)\n",
            "Requirement already satisfied: numpy>=1.7.1 in /usr/local/lib/python3.6/dist-packages (from matplotlib) (1.14.6)\n",
            "Requirement already satisfied: python-dateutil>=2.1 in /usr/local/lib/python3.6/dist-packages (from matplotlib) (2.5.3)\n",
            "Requirement already satisfied: numpy in /usr/local/lib/python3.6/dist-packages (1.14.6)\n"
          ],
          "name": "stdout"
        }
      ]
    },
    {
      "metadata": {
        "id": "GWezZ920zhoZ",
        "colab_type": "code",
        "colab": {
          "base_uri": "https://localhost:8080/",
          "height": 102
        },
        "outputId": "65d82c45-917f-4729-a284-64b4a6e61cd0"
      },
      "cell_type": "code",
      "source": [
        "import tensorflow as tf\n",
        "import numpy as np\n",
        "import os\n",
        "%pylab inline\n",
        "import matplotlib.pyplot as plt\n",
        "import matplotlib.image as mpimg\n",
        "from skimage.transform import resize\n",
        "from sklearn.model_selection import train_test_split\n",
        "from keras.models import *\n",
        "from keras.layers import *\n",
        "from keras.optimizers import *\n",
        "from keras.callbacks import ModelCheckpoint, LearningRateScheduler\n",
        "from keras import backend as keras"
      ],
      "execution_count": 155,
      "outputs": [
        {
          "output_type": "stream",
          "text": [
            "Populating the interactive namespace from numpy and matplotlib\n"
          ],
          "name": "stdout"
        },
        {
          "output_type": "stream",
          "text": [
            "/usr/local/lib/python3.6/dist-packages/IPython/core/magics/pylab.py:161: UserWarning: pylab import has clobbered these variables: ['resize']\n",
            "`%matplotlib` prevents importing * from pylab and numpy\n",
            "  \"\\n`%matplotlib` prevents importing * from pylab and numpy\"\n",
            "Using TensorFlow backend.\n"
          ],
          "name": "stderr"
        }
      ]
    },
    {
      "metadata": {
        "id": "j2qFkGmG1JR5",
        "colab_type": "text"
      },
      "cell_type": "markdown",
      "source": [
        "## Process the Data\n",
        "\n",
        "The data is sample data from Microsoft's MSRA-CFW dataset. It contains a sample of the bigger dataset. We will use the smaller sample at first and then we will retrain the model on the larger dataset at the end."
      ]
    },
    {
      "metadata": {
        "id": "7LVbhA0s7C3-",
        "colab_type": "text"
      },
      "cell_type": "markdown",
      "source": [
        "### Import Data from Github"
      ]
    },
    {
      "metadata": {
        "id": "1ErN6EXfzvlF",
        "colab_type": "code",
        "colab": {
          "base_uri": "https://localhost:8080/",
          "height": 224
        },
        "outputId": "4b65d210-868c-44b1-cc36-4aec011c773a"
      },
      "cell_type": "code",
      "source": [
        "!git clone https://github.com/sidijju/BeginningGAN\n",
        "os.chdir('BeginningGAN/thumbnails_features_deduped_sample')\n",
        "!pwd\n",
        "!ls"
      ],
      "execution_count": 141,
      "outputs": [
        {
          "output_type": "stream",
          "text": [
            "Cloning into 'BeginningGAN'...\n",
            "remote: Enumerating objects: 2241, done.\u001b[K\n",
            "remote: Counting objects:   0% (1/2241)   \u001b[K\rremote: Counting objects:   1% (23/2241)   \u001b[K\rremote: Counting objects:   2% (45/2241)   \u001b[K\rremote: Counting objects:   3% (68/2241)   \u001b[K\rremote: Counting objects:   4% (90/2241)   \u001b[K\rremote: Counting objects:   5% (113/2241)   \u001b[K\rremote: Counting objects:   6% (135/2241)   \u001b[K\rremote: Counting objects:   7% (157/2241)   \u001b[K\rremote: Counting objects:   8% (180/2241)   \u001b[K\rremote: Counting objects:   9% (202/2241)   \u001b[K\rremote: Counting objects:  10% (225/2241)   \u001b[K\rremote: Counting objects:  11% (247/2241)   \u001b[K\rremote: Counting objects:  12% (269/2241)   \u001b[K\rremote: Counting objects:  13% (292/2241)   \u001b[K\rremote: Counting objects:  14% (314/2241)   \u001b[K\rremote: Counting objects:  15% (337/2241)   \u001b[K\rremote: Counting objects:  16% (359/2241)   \u001b[K\rremote: Counting objects:  17% (381/2241)   \u001b[K\rremote: Counting objects:  18% (404/2241)   \u001b[K\rremote: Counting objects:  19% (426/2241)   \u001b[K\rremote: Counting objects:  20% (449/2241)   \u001b[K\rremote: Counting objects:  21% (471/2241)   \u001b[K\rremote: Counting objects:  22% (494/2241)   \u001b[K\rremote: Counting objects:  23% (516/2241)   \u001b[K\rremote: Counting objects:  24% (538/2241)   \u001b[K\rremote: Counting objects:  25% (561/2241)   \u001b[K\rremote: Counting objects:  26% (583/2241)   \u001b[K\rremote: Counting objects:  27% (606/2241)   \u001b[K\rremote: Counting objects:  28% (628/2241)   \u001b[K\rremote: Counting objects:  29% (650/2241)   \u001b[K\rremote: Counting objects:  30% (673/2241)   \u001b[K\rremote: Counting objects:  31% (695/2241)   \u001b[K\rremote: Counting objects:  32% (718/2241)   \u001b[K\rremote: Counting objects:  33% (740/2241)   \u001b[K\rremote: Counting objects:  34% (762/2241)   \u001b[K\rremote: Counting objects:  35% (785/2241)   \u001b[K\rremote: Counting objects:  36% (807/2241)   \u001b[K\rremote: Counting objects:  37% (830/2241)   \u001b[K\rremote: Counting objects:  38% (852/2241)   \u001b[K\rremote: Counting objects:  39% (874/2241)   \u001b[K\rremote: Counting objects:  40% (897/2241)   \u001b[K\rremote: Counting objects:  41% (919/2241)   \u001b[K\rremote: Counting objects:  42% (942/2241)   \u001b[K\rremote: Counting objects:  43% (964/2241)   \u001b[K\rremote: Counting objects:  44% (987/2241)   \u001b[K\rremote: Counting objects:  45% (1009/2241)   \u001b[K\rremote: Counting objects:  46% (1031/2241)   \u001b[K\rremote: Counting objects:  47% (1054/2241)   \u001b[K\rremote: Counting objects:  48% (1076/2241)   \u001b[K\rremote: Counting objects:  49% (1099/2241)   \u001b[K\rremote: Counting objects:  50% (1121/2241)   \u001b[K\rremote: Counting objects:  51% (1143/2241)   \u001b[K\rremote: Counting objects:  52% (1166/2241)   \u001b[K\rremote: Counting objects:  53% (1188/2241)   \u001b[K\rremote: Counting objects:  54% (1211/2241)   \u001b[K\rremote: Counting objects:  55% (1233/2241)   \u001b[K\rremote: Counting objects:  56% (1255/2241)   \u001b[K\rremote: Counting objects:  57% (1278/2241)   \u001b[K\rremote: Counting objects:  58% (1300/2241)   \u001b[K\rremote: Counting objects:  59% (1323/2241)   \u001b[K\rremote: Counting objects:  60% (1345/2241)   \u001b[K\rremote: Counting objects:  61% (1368/2241)   \u001b[K\rremote: Counting objects:  62% (1390/2241)   \u001b[K\rremote: Counting objects:  63% (1412/2241)   \u001b[K\rremote: Counting objects:  64% (1435/2241)   \u001b[K\rremote: Counting objects:  65% (1457/2241)   \u001b[K\rremote: Counting objects:  66% (1480/2241)   \u001b[K\rremote: Counting objects:  67% (1502/2241)   \u001b[K\rremote: Counting objects:  68% (1524/2241)   \u001b[K\rremote: Counting objects:  69% (1547/2241)   \u001b[K\rremote: Counting objects:  70% (1569/2241)   \u001b[K\rremote: Counting objects:  71% (1592/2241)   \u001b[K\rremote: Counting objects:  72% (1614/2241)   \u001b[K\rremote: Counting objects:  73% (1636/2241)   \u001b[K\rremote: Counting objects:  74% (1659/2241)   \u001b[K\rremote: Counting objects:  75% (1681/2241)   \u001b[K\rremote: Counting objects:  76% (1704/2241)   \u001b[K\rremote: Counting objects:  77% (1726/2241)   \u001b[K\rremote: Counting objects:  78% (1748/2241)   \u001b[K\rremote: Counting objects:  79% (1771/2241)   \u001b[K\rremote: Counting objects:  80% (1793/2241)   \u001b[K\rremote: Counting objects:  81% (1816/2241)   \u001b[K\rremote: Counting objects:  82% (1838/2241)   \u001b[K\rremote: Counting objects:  83% (1861/2241)   \u001b[K\rremote: Counting objects:  84% (1883/2241)   \u001b[K\rremote: Counting objects:  85% (1905/2241)   \u001b[K\rremote: Counting objects:  86% (1928/2241)   \u001b[K\rremote: Counting objects:  87% (1950/2241)   \u001b[K\rremote: Counting objects:  88% (1973/2241)   \u001b[K\rremote: Counting objects:  89% (1995/2241)   \u001b[K\rremote: Counting objects:  90% (2017/2241)   \u001b[K\rremote: Counting objects:  91% (2040/2241)   \u001b[K\rremote: Counting objects:  92% (2062/2241)   \u001b[K\rremote: Counting objects:  93% (2085/2241)   \u001b[K\rremote: Counting objects:  94% (2107/2241)   \u001b[K\rremote: Counting objects:  95% (2129/2241)   \u001b[K\rremote: Counting objects:  96% (2152/2241)   \u001b[K\rremote: Counting objects:  97% (2174/2241)   \u001b[K\rremote: Counting objects:  98% (2197/2241)   \u001b[K\rremote: Counting objects:  99% (2219/2241)   \u001b[K\rremote: Counting objects: 100% (2241/2241)   \u001b[K\rremote: Counting objects: 100% (2241/2241), done.\u001b[K\n",
            "remote: Compressing objects: 100% (2236/2236), done.\u001b[K\n",
            "remote: Total 2241 (delta 3), reused 2225 (delta 1), pack-reused 0\u001b[K\n",
            "Receiving objects: 100% (2241/2241), 15.55 MiB | 7.15 MiB/s, done.\n",
            "Resolving deltas: 100% (3/3), done.\n",
            "/content/BeginningGAN/thumbnails_features_deduped_sample/BeginningGAN/thumbnails_features_deduped_sample/BeginningGAN/thumbnails_features_deduped_sample/BeginningGAN/thumbnails_features_deduped_sample\n",
            "'aaron carter'\t'aishwarya rai'  'liv tyler'\t   'steve jobs'\n",
            "'adam brody'\t'al gore'\t 'martina hingis'\n",
            "'adrien brody'\t'bill gates'\t 'michelle obama'\n"
          ],
          "name": "stdout"
        }
      ]
    },
    {
      "metadata": {
        "id": "8zjDHKzr1ljO",
        "colab_type": "text"
      },
      "cell_type": "markdown",
      "source": [
        "As you can see, there are folders which contain thumbnail clippings for the celebrity each folder is named after. For example, let us look at the contents of the folder  ```bill gates```\n",
        "\n"
      ]
    },
    {
      "metadata": {
        "id": "c3cPg5YB1D0A",
        "colab_type": "code",
        "colab": {
          "base_uri": "https://localhost:8080/",
          "height": 683
        },
        "outputId": "d52f3b97-a842-4de8-9a3e-f0acb70966ea"
      },
      "cell_type": "code",
      "source": [
        "os.chdir('bill gates')\n",
        "!pwd\n",
        "!ls"
      ],
      "execution_count": 142,
      "outputs": [
        {
          "output_type": "stream",
          "text": [
            "/content/BeginningGAN/thumbnails_features_deduped_sample/BeginningGAN/thumbnails_features_deduped_sample/BeginningGAN/thumbnails_features_deduped_sample/BeginningGAN/thumbnails_features_deduped_sample/bill gates\n",
            "0.jpg\t 18.jpg   280.jpg  343.jpg  407.jpg  486.jpg  547.jpg  660.jpg\n",
            "105.jpg  192.jpg  282.jpg  344.jpg  409.jpg  488.jpg  548.jpg  664.jpg\n",
            "108.jpg  193.jpg  284.jpg  345.jpg  410.jpg  48.jpg   54.jpg   666.jpg\n",
            "111.jpg  194.jpg  286.jpg  347.jpg  419.jpg  490.jpg  550.jpg  670.jpg\n",
            "113.jpg  195.jpg  291.jpg  348.jpg  421.jpg  491.jpg  551.jpg  673.jpg\n",
            "116.jpg  196.jpg  293.jpg  349.jpg  423.jpg  492.jpg  563.jpg  675.jpg\n",
            "117.jpg  1.jpg\t  294.jpg  34.jpg   425.jpg  493.jpg  565.jpg  680.jpg\n",
            "119.jpg  200.jpg  295.jpg  350.jpg  426.jpg  494.jpg  56.jpg   682.jpg\n",
            "122.jpg  201.jpg  297.jpg  351.jpg  429.jpg  496.jpg  570.jpg  684.jpg\n",
            "124.jpg  203.jpg  298.jpg  352.jpg  42.jpg   497.jpg  585.jpg  685.jpg\n",
            "127.jpg  204.jpg  2.jpg    354.jpg  431.jpg  498.jpg  587.jpg  686.jpg\n",
            "12.jpg\t 20.jpg   303.jpg  356.jpg  433.jpg  49.jpg   588.jpg  687.jpg\n",
            "131.jpg  212.jpg  305.jpg  35.jpg   434.jpg  4.jpg    589.jpg  68.jpg\n",
            "133.jpg  219.jpg  306.jpg  365.jpg  436.jpg  501.jpg  58.jpg   690.jpg\n",
            "134.jpg  221.jpg  308.jpg  368.jpg  437.jpg  505.jpg  590.jpg  72.jpg\n",
            "136.jpg  224.jpg  311.jpg  36.jpg   439.jpg  508.jpg  594.jpg  73.jpg\n",
            "138.jpg  229.jpg  312.jpg  371.jpg  441.jpg  509.jpg  596.jpg  76.jpg\n",
            "13.jpg\t 230.jpg  313.jpg  374.jpg  443.jpg  50.jpg   598.jpg  78.jpg\n",
            "140.jpg  235.jpg  314.jpg  375.jpg  448.jpg  511.jpg  5.jpg    80.jpg\n",
            "142.jpg  238.jpg  319.jpg  377.jpg  450.jpg  512.jpg  603.jpg  82.jpg\n",
            "148.jpg  240.jpg  320.jpg  378.jpg  451.jpg  515.jpg  609.jpg  88.jpg\n",
            "151.jpg  245.jpg  321.jpg  37.jpg   455.jpg  517.jpg  60.jpg   89.jpg\n",
            "153.jpg  246.jpg  322.jpg  380.jpg  456.jpg  518.jpg  616.jpg  8.jpg\n",
            "157.jpg  250.jpg  324.jpg  382.jpg  458.jpg  522.jpg  61.jpg   90.jpg\n",
            "159.jpg  251.jpg  325.jpg  383.jpg  460.jpg  524.jpg  620.jpg  93.jpg\n",
            "166.jpg  255.jpg  326.jpg  384.jpg  463.jpg  525.jpg  621.jpg  94.jpg\n",
            "167.jpg  256.jpg  328.jpg  385.jpg  466.jpg  526.jpg  624.jpg  96.jpg\n",
            "169.jpg  258.jpg  329.jpg  388.jpg  46.jpg   52.jpg   62.jpg   97.jpg\n",
            "170.jpg  261.jpg  32.jpg   38.jpg   470.jpg  530.jpg  634.jpg  9.jpg\n",
            "175.jpg  263.jpg  331.jpg  394.jpg  471.jpg  531.jpg  637.jpg  feature.bin\n",
            "176.jpg  264.jpg  332.jpg  396.jpg  472.jpg  532.jpg  638.jpg  filelist_LBP.txt\n",
            "179.jpg  269.jpg  333.jpg  3.jpg    475.jpg  533.jpg  63.jpg   info.txt\n",
            "17.jpg\t 26.jpg   335.jpg  400.jpg  476.jpg  534.jpg  647.jpg\n",
            "181.jpg  273.jpg  336.jpg  402.jpg  477.jpg  535.jpg  64.jpg\n",
            "184.jpg  275.jpg  337.jpg  403.jpg  47.jpg   536.jpg  653.jpg\n",
            "186.jpg  277.jpg  339.jpg  404.jpg  482.jpg  537.jpg  657.jpg\n",
            "187.jpg  278.jpg  341.jpg  405.jpg  483.jpg  545.jpg  65.jpg\n"
          ],
          "name": "stdout"
        }
      ]
    },
    {
      "metadata": {
        "id": "Z1Iula2a141F",
        "colab_type": "code",
        "colab": {
          "base_uri": "https://localhost:8080/",
          "height": 269
        },
        "outputId": "ee309363-1482-4ecd-f57d-5d1030186caa"
      },
      "cell_type": "code",
      "source": [
        "img=mpimg.imread('187.jpg')\n",
        "imgplot = plt.imshow(img)\n",
        "plt.show()\n",
        "os.chdir(\"..\")"
      ],
      "execution_count": 143,
      "outputs": [
        {
          "output_type": "display_data",
          "data": {
            "image/png": "[encoded data removed]",
            "text/plain": [
              "<matplotlib.figure.Figure at 0x7f484bec9ba8>"
            ]
          },
          "metadata": {
            "tags": []
          }
        }
      ]
    },
    {
      "metadata": {
        "id": "Dsn_hRpV7tb_",
        "colab_type": "text"
      },
      "cell_type": "markdown",
      "source": [
        "###Sort Images by Label"
      ]
    },
    {
      "metadata": {
        "id": "NRUcJb2Z7xhX",
        "colab_type": "text"
      },
      "cell_type": "markdown",
      "source": [
        "Here we will compile the entire dataset into a dataframe."
      ]
    },
    {
      "metadata": {
        "id": "cbGfqny97sW4",
        "colab_type": "code",
        "colab": {
          "base_uri": "https://localhost:8080/",
          "height": 71
        },
        "outputId": "1350a922-01de-42e2-82ed-c6477a468783"
      },
      "cell_type": "code",
      "source": [
        "data = {}\n",
        "data['labels'] = []\n",
        "data['images'] = []\n",
        "for dir in os.walk(os.getcwd()):\n",
        "  os.chdir(dir[0])\n",
        "  for file in dir[2]:\n",
        "    if(file[-4:]==\".jpg\"):\n",
        "      img = np.array(mpimg.imread(str(file)))\n",
        "      img = resize(img, (160, 160))\n",
        "      data['labels'].append(dir[0].rsplit('/',1)[1])\n",
        "      data['images'].append(img)\n",
        "  os.chdir(\"..\")"
      ],
      "execution_count": 144,
      "outputs": [
        {
          "output_type": "stream",
          "text": [
            "/usr/local/lib/python3.6/dist-packages/skimage/transform/_warps.py:84: UserWarning: The default mode, 'constant', will be changed to 'reflect' in skimage 0.15.\n",
            "  warn(\"The default mode, 'constant', will be changed to 'reflect' in \"\n"
          ],
          "name": "stderr"
        }
      ]
    },
    {
      "metadata": {
        "id": "MEBssnT2_oMs",
        "colab_type": "text"
      },
      "cell_type": "markdown",
      "source": [
        "Let's also figure out how much data is in the dataset for each label and in total."
      ]
    },
    {
      "metadata": {
        "id": "XBSicwnr_NLb",
        "colab_type": "code",
        "colab": {
          "base_uri": "https://localhost:8080/",
          "height": 238
        },
        "outputId": "c061473e-2d05-4581-b8ff-4581a74367b5"
      },
      "cell_type": "code",
      "source": [
        "total = 0\n",
        "print(\"--Dataset Distribution--\")\n",
        "for label in set(data['labels']):\n",
        "  print(\"%-19s %s\" % (label + \":\", str(data['labels'].count(label))))\n",
        "  total += data['labels'].count(label)\n",
        "print(\"------------------------\\n%-19s %s\" % (\"Total: \", str(total)))"
      ],
      "execution_count": 145,
      "outputs": [
        {
          "output_type": "stream",
          "text": [
            "--Dataset Distribution--\n",
            "adam brody:         83\n",
            "bill gates:         288\n",
            "adrien brody:       76\n",
            "steve jobs:         156\n",
            "liv tyler:          393\n",
            "michelle obama:     123\n",
            "martina hingis:     51\n",
            "aaron carter:       48\n",
            "aishwarya rai:      781\n",
            "al gore:            175\n",
            "------------------------\n",
            "Total:              2174\n"
          ],
          "name": "stdout"
        }
      ]
    },
    {
      "metadata": {
        "id": "USmGU3fkVMYJ",
        "colab_type": "text"
      },
      "cell_type": "markdown",
      "source": [
        "###Split into Training, Testing, and Validation"
      ]
    },
    {
      "metadata": {
        "id": "yrX6jSRrV1Xa",
        "colab_type": "text"
      },
      "cell_type": "markdown",
      "source": [
        "Fill  ```labels``` and ```images``` as numpy arrays with data.\n",
        "\n"
      ]
    },
    {
      "metadata": {
        "id": "H1IsR1ZXWD3r",
        "colab_type": "code",
        "colab": {
          "base_uri": "https://localhost:8080/",
          "height": 51
        },
        "outputId": "b2c0a5d8-5a05-427d-e514-5b01134807d6"
      },
      "cell_type": "code",
      "source": [
        "#set images and labels to numpy arrays\n",
        "\n",
        "labels = np.array(data['labels'])\n",
        "images = np.asarray(data['images'])\n",
        "print(labels.shape)\n",
        "print(images.shape)\n"
      ],
      "execution_count": 148,
      "outputs": [
        {
          "output_type": "stream",
          "text": [
            "(2174,)\n",
            "(2174, 160, 160, 3)\n"
          ],
          "name": "stdout"
        }
      ]
    },
    {
      "metadata": {
        "id": "r3EQ9y3Yevb9",
        "colab_type": "text"
      },
      "cell_type": "markdown",
      "source": [
        "Split data into testing and training data"
      ]
    },
    {
      "metadata": {
        "id": "FhHb8bLCVSXP",
        "colab_type": "code",
        "colab": {}
      },
      "cell_type": "code",
      "source": [
        "num_images, nrows, ncols, channels = images.shape\n",
        "\n",
        "np.rollaxis(images, 3, 1)  \n",
        "\n",
        "# split into training and testing sets\n",
        "\n",
        "X_train, X_test, y_train, y_test = train_test_split(images, labels, test_size = .2)\n",
        "\n",
        "X_train, X_val, y_train, y_val = train_test_split(X_train, y_train, test_size = .125)"
      ],
      "execution_count": 0,
      "outputs": []
    },
    {
      "metadata": {
        "id": "vy65MMiE7Vvx",
        "colab_type": "text"
      },
      "cell_type": "markdown",
      "source": [
        "### Normalize the Data"
      ]
    },
    {
      "metadata": {
        "id": "jcOELpEv7ZO2",
        "colab_type": "text"
      },
      "cell_type": "markdown",
      "source": [
        "In order to reduce variation in the data, we will normalize the RGB images so that they range between 0 and 1. We will also reshape the labels."
      ]
    },
    {
      "metadata": {
        "id": "42KAehsn7X6I",
        "colab_type": "code",
        "colab": {}
      },
      "cell_type": "code",
      "source": [
        "X_train = X_train.astype('float')/255\n",
        "X_test = X_test.astype('float')/255\n",
        "X_val = X_val.astype('float')/255\n",
        "\n",
        "y_train = y_train.reshape(len(y_train), 1)\n",
        "y_test = y_test.reshape(len(y_test), 1)\n",
        "y_val = y_val.reshape(len(y_val), 1)\n",
        "\n"
      ],
      "execution_count": 0,
      "outputs": []
    },
    {
      "metadata": {
        "id": "97_oNYrJ7Iil",
        "colab_type": "text"
      },
      "cell_type": "markdown",
      "source": [
        "##Create the GAN"
      ]
    },
    {
      "metadata": {
        "id": "kEvQc0Fwh6zy",
        "colab_type": "text"
      },
      "cell_type": "markdown",
      "source": [
        "###Define the Discriminator Network"
      ]
    },
    {
      "metadata": {
        "id": "ldNAy2ga2jQo",
        "colab_type": "code",
        "colab": {
          "base_uri": "https://localhost:8080/",
          "height": 717
        },
        "outputId": "0a73a74b-b41a-42ba-a628-c7842b97ea83"
      },
      "cell_type": "code",
      "source": [
        "def DiscriminatorNet(input_size = (160, 160, 3)):\n",
        "  \n",
        "    inputs   = Input(input_size)\n",
        "    \n",
        "    flatten1 = Flatten()(inputs)\n",
        "    \n",
        "    lReLU1   = LeakyReLU(0.2)(flatten1)\n",
        "    drop1    = Dropout(0.3)(lReLU1)\n",
        "    \n",
        "    dense1   = Dense(1024, activation = 'linear')(drop1)\n",
        "    lReLU2   = LeakyReLU(0.2)(dense1)\n",
        "    drop2    = Dropout(0.3)(lReLU2)\n",
        "    \n",
        "    dense2   = Dense(512, activation = 'linear')(drop2)\n",
        "    lReLU3   = LeakyReLU(0.2)(dense2)\n",
        "    drop3    = Dropout(0.3)(lReLU3)\n",
        "    \n",
        "    dense3   = Dense(256, activation = 'linear')(drop3)\n",
        "    lReLU4   = LeakyReLU(0.2)(dense3)\n",
        "    drop4    = Dropout(0.3)(lReLU4)\n",
        "    \n",
        "    dense4   = Dense(128, activation = 'linear')(drop4)\n",
        "    lReLU5   = LeakyReLU(0.2)(dense4)\n",
        "    drop5    = Dropout(0.3)(lReLU5)\n",
        "    \n",
        "    model = Model(input = inputs, output = drop5)\n",
        "\n",
        "    model.compile(optimizer = Adam(lr = 1e-4), loss = 'binary_crossentropy', metrics = ['accuracy'])\n",
        "    \n",
        "    model.summary()\n",
        "    \n",
        "    return model\n",
        "  \n",
        "discriminator = DiscriminatorNet()"
      ],
      "execution_count": 172,
      "outputs": [
        {
          "output_type": "stream",
          "text": [
            "_________________________________________________________________\n",
            "Layer (type)                 Output Shape              Param #   \n",
            "=================================================================\n",
            "input_15 (InputLayer)        (None, 160, 160, 3)       0         \n",
            "_________________________________________________________________\n",
            "flatten_15 (Flatten)         (None, 76800)             0         \n",
            "_________________________________________________________________\n",
            "leaky_re_lu_10 (LeakyReLU)   (None, 76800)             0         \n",
            "_________________________________________________________________\n",
            "dropout_10 (Dropout)         (None, 76800)             0         \n",
            "_________________________________________________________________\n",
            "dense_9 (Dense)              (None, 1024)              78644224  \n",
            "_________________________________________________________________\n",
            "leaky_re_lu_11 (LeakyReLU)   (None, 1024)              0         \n",
            "_________________________________________________________________\n",
            "dropout_11 (Dropout)         (None, 1024)              0         \n",
            "_________________________________________________________________\n",
            "dense_10 (Dense)             (None, 512)               524800    \n",
            "_________________________________________________________________\n",
            "leaky_re_lu_12 (LeakyReLU)   (None, 512)               0         \n",
            "_________________________________________________________________\n",
            "dropout_12 (Dropout)         (None, 512)               0         \n",
            "_________________________________________________________________\n",
            "dense_11 (Dense)             (None, 256)               131328    \n",
            "_________________________________________________________________\n",
            "leaky_re_lu_13 (LeakyReLU)   (None, 256)               0         \n",
            "_________________________________________________________________\n",
            "dropout_13 (Dropout)         (None, 256)               0         \n",
            "_________________________________________________________________\n",
            "dense_12 (Dense)             (None, 128)               32896     \n",
            "_________________________________________________________________\n",
            "leaky_re_lu_14 (LeakyReLU)   (None, 128)               0         \n",
            "_________________________________________________________________\n",
            "dropout_14 (Dropout)         (None, 128)               0         \n",
            "=================================================================\n",
            "Total params: 79,333,248\n",
            "Trainable params: 79,333,248\n",
            "Non-trainable params: 0\n",
            "_________________________________________________________________\n"
          ],
          "name": "stdout"
        },
        {
          "output_type": "stream",
          "text": [
            "/usr/local/lib/python3.6/dist-packages/ipykernel_launcher.py:26: UserWarning: Update your `Model` call to the Keras 2 API: `Model(inputs=Tensor(\"in..., outputs=Tensor(\"dr...)`\n"
          ],
          "name": "stderr"
        }
      ]
    },
    {
      "metadata": {
        "id": "vupqBbVw7H__",
        "colab_type": "text"
      },
      "cell_type": "markdown",
      "source": [
        "### Define the Generator Network"
      ]
    },
    {
      "metadata": {
        "id": "YcgLa7EI7NWQ",
        "colab_type": "code",
        "colab": {}
      },
      "cell_type": "code",
      "source": [
        "def GeneratorNet():"
      ],
      "execution_count": 0,
      "outputs": []
    }
  ]
}